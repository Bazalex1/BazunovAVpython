{
 "cells": [
  {
   "cell_type": "code",
   "execution_count": 67,
   "id": "4de87a2c",
   "metadata": {},
   "outputs": [],
   "source": [
    "import datetime as dt\n",
    "import pandas as pd\n",
    "import matplotlib.pyplot as plt"
   ]
  },
  {
   "cell_type": "code",
   "execution_count": 68,
   "id": "11d02d87",
   "metadata": {},
   "outputs": [],
   "source": [
    "sales_table = pd.read_csv('Electronic_sales_Sep2023-Sep2024.csv')"
   ]
  },
  {
   "cell_type": "markdown",
   "id": "baa221f6",
   "metadata": {},
   "source": [
    "Задание 1\n",
    "\n",
    "На основании датасета для каждого покупателя получите:\n",
    "\n",
    "предпочитаемый метод оплаты;\n",
    "общие траты;\n",
    "количество денег, потраченных на дополнительные услуги и аксессуары."
   ]
  },
  {
   "cell_type": "markdown",
   "id": "3e2dac80",
   "metadata": {},
   "source": [
    "Пройдемся по датасету и соберем новый с суммой данных по каждому получателю. Траты будем считать только осуществленные, т.е. не будем учитывать \"Cancelled\" операции."
   ]
  },
  {
   "cell_type": "code",
   "execution_count": 69,
   "id": "2027efc8",
   "metadata": {},
   "outputs": [
    {
     "data": {
      "text/html": [
       "<div>\n",
       "<style scoped>\n",
       "    .dataframe tbody tr th:only-of-type {\n",
       "        vertical-align: middle;\n",
       "    }\n",
       "\n",
       "    .dataframe tbody tr th {\n",
       "        vertical-align: top;\n",
       "    }\n",
       "\n",
       "    .dataframe thead th {\n",
       "        text-align: right;\n",
       "    }\n",
       "</style>\n",
       "<table border=\"1\" class=\"dataframe\">\n",
       "  <thead>\n",
       "    <tr style=\"text-align: right;\">\n",
       "      <th></th>\n",
       "      <th>Total Price</th>\n",
       "      <th>Add-on Total</th>\n",
       "      <th>Payment Method</th>\n",
       "    </tr>\n",
       "    <tr>\n",
       "      <th>Customer ID</th>\n",
       "      <th></th>\n",
       "      <th></th>\n",
       "      <th></th>\n",
       "    </tr>\n",
       "  </thead>\n",
       "  <tbody>\n",
       "    <tr>\n",
       "      <th>1000</th>\n",
       "      <td>741.09</td>\n",
       "      <td>26.09</td>\n",
       "      <td>Paypal</td>\n",
       "    </tr>\n",
       "    <tr>\n",
       "      <th>1002</th>\n",
       "      <td>5020.60</td>\n",
       "      <td>60.16</td>\n",
       "      <td>[Cash, Credit Card]</td>\n",
       "    </tr>\n",
       "    <tr>\n",
       "      <th>1003</th>\n",
       "      <td>41.50</td>\n",
       "      <td>35.56</td>\n",
       "      <td>Cash</td>\n",
       "    </tr>\n",
       "    <tr>\n",
       "      <th>1004</th>\n",
       "      <td>83.00</td>\n",
       "      <td>65.78</td>\n",
       "      <td>Credit Card</td>\n",
       "    </tr>\n",
       "    <tr>\n",
       "      <th>1005</th>\n",
       "      <td>11779.11</td>\n",
       "      <td>75.33</td>\n",
       "      <td>[Debit Card, Paypal]</td>\n",
       "    </tr>\n",
       "  </tbody>\n",
       "</table>\n",
       "</div>"
      ],
      "text/plain": [
       "             Total Price  Add-on Total        Payment Method\n",
       "Customer ID                                                 \n",
       "1000              741.09         26.09                Paypal\n",
       "1002             5020.60         60.16   [Cash, Credit Card]\n",
       "1003               41.50         35.56                  Cash\n",
       "1004               83.00         65.78           Credit Card\n",
       "1005            11779.11         75.33  [Debit Card, Paypal]"
      ]
     },
     "execution_count": 69,
     "metadata": {},
     "output_type": "execute_result"
    }
   ],
   "source": [
    "#находим предпочитаемый метод оплаты\n",
    "def payment_fav(series) -> str:\n",
    "    return series.mode()\n",
    "\n",
    "#создаем таблицу с искомыми данными совершенных заказов\n",
    "users_table = sales_table[sales_table['Order Status'] != 'Cancelled'].groupby('Customer ID').agg({\n",
    "    'Total Price': 'sum',\n",
    "    'Add-on Total': 'sum',\n",
    "    'Payment Method': payment_fav\n",
    "})\n",
    "users_table.head()"
   ]
  },
  {
   "cell_type": "markdown",
   "id": "1db530dc",
   "metadata": {},
   "source": [
    "На всякий случай, приложу вариант с обработкой заказов с любыми статусами:"
   ]
  },
  {
   "cell_type": "code",
   "execution_count": 70,
   "id": "c60f4f0c",
   "metadata": {},
   "outputs": [
    {
     "data": {
      "text/html": [
       "<div>\n",
       "<style scoped>\n",
       "    .dataframe tbody tr th:only-of-type {\n",
       "        vertical-align: middle;\n",
       "    }\n",
       "\n",
       "    .dataframe tbody tr th {\n",
       "        vertical-align: top;\n",
       "    }\n",
       "\n",
       "    .dataframe thead th {\n",
       "        text-align: right;\n",
       "    }\n",
       "</style>\n",
       "<table border=\"1\" class=\"dataframe\">\n",
       "  <thead>\n",
       "    <tr style=\"text-align: right;\">\n",
       "      <th></th>\n",
       "      <th>Total Price</th>\n",
       "      <th>Add-on Total</th>\n",
       "      <th>Payment Method</th>\n",
       "    </tr>\n",
       "    <tr>\n",
       "      <th>Customer ID</th>\n",
       "      <th></th>\n",
       "      <th></th>\n",
       "      <th></th>\n",
       "    </tr>\n",
       "  </thead>\n",
       "  <tbody>\n",
       "    <tr>\n",
       "      <th>1000</th>\n",
       "      <td>6279.42</td>\n",
       "      <td>66.30</td>\n",
       "      <td>[Credit Card, Paypal]</td>\n",
       "    </tr>\n",
       "    <tr>\n",
       "      <th>1002</th>\n",
       "      <td>5020.60</td>\n",
       "      <td>60.16</td>\n",
       "      <td>[Cash, Credit Card]</td>\n",
       "    </tr>\n",
       "    <tr>\n",
       "      <th>1003</th>\n",
       "      <td>41.50</td>\n",
       "      <td>35.56</td>\n",
       "      <td>Cash</td>\n",
       "    </tr>\n",
       "    <tr>\n",
       "      <th>1004</th>\n",
       "      <td>83.00</td>\n",
       "      <td>65.78</td>\n",
       "      <td>Credit Card</td>\n",
       "    </tr>\n",
       "    <tr>\n",
       "      <th>1005</th>\n",
       "      <td>11779.11</td>\n",
       "      <td>75.33</td>\n",
       "      <td>[Debit Card, Paypal]</td>\n",
       "    </tr>\n",
       "  </tbody>\n",
       "</table>\n",
       "</div>"
      ],
      "text/plain": [
       "             Total Price  Add-on Total         Payment Method\n",
       "Customer ID                                                  \n",
       "1000             6279.42         66.30  [Credit Card, Paypal]\n",
       "1002             5020.60         60.16    [Cash, Credit Card]\n",
       "1003               41.50         35.56                   Cash\n",
       "1004               83.00         65.78            Credit Card\n",
       "1005            11779.11         75.33   [Debit Card, Paypal]"
      ]
     },
     "execution_count": 70,
     "metadata": {},
     "output_type": "execute_result"
    }
   ],
   "source": [
    "#находим предпочитаемый метод оплаты\n",
    "def payment_fav(series) -> str:\n",
    "    return series.mode()\n",
    "\n",
    "#создаем таблицу с искомыми данными любых закасов\n",
    "users_table = sales_table.groupby('Customer ID').agg({\n",
    "    'Total Price': 'sum',\n",
    "    'Add-on Total': 'sum',\n",
    "    'Payment Method': payment_fav\n",
    "})\n",
    "users_table.head()"
   ]
  },
  {
   "cell_type": "markdown",
   "id": "95513eaf",
   "metadata": {},
   "source": [
    "\n",
    "Задание 2\n",
    "\n",
    "1. На основании датасета получите доход:\n",
    "\n",
    "по каждому методу доставки,\n",
    "по каждому типу продукта,\n",
    "по дополнительным услугам за каждый месяц,\n",
    "по дополнительным услугам за каждый квартал.\n",
    "\n",
    "\n",
    "2. Отобразите полученные данные на графике."
   ]
  },
  {
   "cell_type": "markdown",
   "id": "3d46b078",
   "metadata": {},
   "source": [
    "Решение:\n",
    "-создадим таблицы с искомыми данными и выведем графики с помощью matholib\n",
    "\n",
    "-учитывать будем только совершенные операции (без Canselled) т.к. они доход не приносят"
   ]
  },
  {
   "cell_type": "code",
   "execution_count": 71,
   "id": "146f1116",
   "metadata": {},
   "outputs": [],
   "source": [
    "#очистим таблицу от Canslled заказов\n",
    "sales_table = sales_table.drop(sales_table[sales_table['Order Status'] == \"Cancelled\"].index)"
   ]
  },
  {
   "cell_type": "code",
   "execution_count": 72,
   "id": "01f1b0e5",
   "metadata": {},
   "outputs": [
    {
     "data": {
      "text/html": [
       "<div>\n",
       "<style scoped>\n",
       "    .dataframe tbody tr th:only-of-type {\n",
       "        vertical-align: middle;\n",
       "    }\n",
       "\n",
       "    .dataframe tbody tr th {\n",
       "        vertical-align: top;\n",
       "    }\n",
       "\n",
       "    .dataframe thead th {\n",
       "        text-align: right;\n",
       "    }\n",
       "</style>\n",
       "<table border=\"1\" class=\"dataframe\">\n",
       "  <thead>\n",
       "    <tr style=\"text-align: right;\">\n",
       "      <th></th>\n",
       "      <th>Total Price</th>\n",
       "    </tr>\n",
       "    <tr>\n",
       "      <th>Shipping Type</th>\n",
       "      <th></th>\n",
       "    </tr>\n",
       "  </thead>\n",
       "  <tbody>\n",
       "    <tr>\n",
       "      <th>Expedited</th>\n",
       "      <td>8430385.58</td>\n",
       "    </tr>\n",
       "    <tr>\n",
       "      <th>Express</th>\n",
       "      <td>5632093.35</td>\n",
       "    </tr>\n",
       "    <tr>\n",
       "      <th>Overnight</th>\n",
       "      <td>5887722.52</td>\n",
       "    </tr>\n",
       "    <tr>\n",
       "      <th>Same Day</th>\n",
       "      <td>8292376.50</td>\n",
       "    </tr>\n",
       "    <tr>\n",
       "      <th>Standard</th>\n",
       "      <td>14387037.62</td>\n",
       "    </tr>\n",
       "  </tbody>\n",
       "</table>\n",
       "</div>"
      ],
      "text/plain": [
       "               Total Price\n",
       "Shipping Type             \n",
       "Expedited       8430385.58\n",
       "Express         5632093.35\n",
       "Overnight       5887722.52\n",
       "Same Day        8292376.50\n",
       "Standard       14387037.62"
      ]
     },
     "execution_count": 72,
     "metadata": {},
     "output_type": "execute_result"
    }
   ],
   "source": [
    "income_table_ship = sales_table.groupby('Shipping Type').agg({\n",
    "    'Total Price': 'sum',\n",
    "})\n",
    "income_table_ship.head()\n"
   ]
  },
  {
   "cell_type": "code",
   "execution_count": 73,
   "id": "5cef6756",
   "metadata": {},
   "outputs": [
    {
     "data": {
      "image/png": "[encoded data removed]",
      "text/plain": [
       "<Figure size 640x480 with 1 Axes>"
      ]
     },
     "metadata": {},
     "output_type": "display_data"
    }
   ],
   "source": [
    "\n",
    "income_table_ship.plot(kind='bar')\n",
    "plt.ticklabel_format(style='plain', axis='y')\n",
    "plt.show()"
   ]
  },
  {
   "cell_type": "code",
   "execution_count": 74,
   "id": "f3d56e48",
   "metadata": {},
   "outputs": [
    {
     "data": {
      "text/html": [
       "<div>\n",
       "<style scoped>\n",
       "    .dataframe tbody tr th:only-of-type {\n",
       "        vertical-align: middle;\n",
       "    }\n",
       "\n",
       "    .dataframe tbody tr th {\n",
       "        vertical-align: top;\n",
       "    }\n",
       "\n",
       "    .dataframe thead th {\n",
       "        text-align: right;\n",
       "    }\n",
       "</style>\n",
       "<table border=\"1\" class=\"dataframe\">\n",
       "  <thead>\n",
       "    <tr style=\"text-align: right;\">\n",
       "      <th></th>\n",
       "      <th>Total Price</th>\n",
       "    </tr>\n",
       "    <tr>\n",
       "      <th>Product Type</th>\n",
       "      <th></th>\n",
       "    </tr>\n",
       "  </thead>\n",
       "  <tbody>\n",
       "    <tr>\n",
       "      <th>Headphones</th>\n",
       "      <td>2734651.00</td>\n",
       "    </tr>\n",
       "    <tr>\n",
       "      <th>Laptop</th>\n",
       "      <td>8365905.25</td>\n",
       "    </tr>\n",
       "    <tr>\n",
       "      <th>Smartphone</th>\n",
       "      <td>14407835.84</td>\n",
       "    </tr>\n",
       "    <tr>\n",
       "      <th>Smartwatch</th>\n",
       "      <td>9398591.23</td>\n",
       "    </tr>\n",
       "    <tr>\n",
       "      <th>Tablet</th>\n",
       "      <td>7722632.25</td>\n",
       "    </tr>\n",
       "  </tbody>\n",
       "</table>\n",
       "</div>"
      ],
      "text/plain": [
       "              Total Price\n",
       "Product Type             \n",
       "Headphones     2734651.00\n",
       "Laptop         8365905.25\n",
       "Smartphone    14407835.84\n",
       "Smartwatch     9398591.23\n",
       "Tablet         7722632.25"
      ]
     },
     "execution_count": 74,
     "metadata": {},
     "output_type": "execute_result"
    }
   ],
   "source": [
    "income_table_type = sales_table.groupby('Product Type').agg({\n",
    "    'Total Price': 'sum',\n",
    "})\n",
    "income_table_type.head()\n",
    "\n"
   ]
  },
  {
   "cell_type": "code",
   "execution_count": 75,
   "id": "7c71d8a5",
   "metadata": {},
   "outputs": [
    {
     "data": {
      "image/png": "[encoded data removed]",
      "text/plain": [
       "<Figure size 640x480 with 1 Axes>"
      ]
     },
     "metadata": {},
     "output_type": "display_data"
    }
   ],
   "source": [
    "income_table_type.plot(kind='bar')\n",
    "plt.ticklabel_format(style='plain', axis='y')\n",
    "plt.show()"
   ]
  },
  {
   "cell_type": "code",
   "execution_count": 76,
   "id": "47e147a3",
   "metadata": {},
   "outputs": [
    {
     "data": {
      "text/html": [
       "<div>\n",
       "<style scoped>\n",
       "    .dataframe tbody tr th:only-of-type {\n",
       "        vertical-align: middle;\n",
       "    }\n",
       "\n",
       "    .dataframe tbody tr th {\n",
       "        vertical-align: top;\n",
       "    }\n",
       "\n",
       "    .dataframe thead th {\n",
       "        text-align: right;\n",
       "    }\n",
       "</style>\n",
       "<table border=\"1\" class=\"dataframe\">\n",
       "  <thead>\n",
       "    <tr style=\"text-align: right;\">\n",
       "      <th></th>\n",
       "      <th>Add-on Total</th>\n",
       "    </tr>\n",
       "    <tr>\n",
       "      <th>Purchase month</th>\n",
       "      <th></th>\n",
       "    </tr>\n",
       "  </thead>\n",
       "  <tbody>\n",
       "    <tr>\n",
       "      <th>2023-09</th>\n",
       "      <td>5337.61</td>\n",
       "    </tr>\n",
       "    <tr>\n",
       "      <th>2023-10</th>\n",
       "      <td>26153.21</td>\n",
       "    </tr>\n",
       "    <tr>\n",
       "      <th>2023-11</th>\n",
       "      <td>24453.33</td>\n",
       "    </tr>\n",
       "    <tr>\n",
       "      <th>2023-12</th>\n",
       "      <td>22750.23</td>\n",
       "    </tr>\n",
       "    <tr>\n",
       "      <th>2024-01</th>\n",
       "      <td>93254.95</td>\n",
       "    </tr>\n",
       "  </tbody>\n",
       "</table>\n",
       "</div>"
      ],
      "text/plain": [
       "                Add-on Total\n",
       "Purchase month              \n",
       "2023-09              5337.61\n",
       "2023-10             26153.21\n",
       "2023-11             24453.33\n",
       "2023-12             22750.23\n",
       "2024-01             93254.95"
      ]
     },
     "execution_count": 76,
     "metadata": {},
     "output_type": "execute_result"
    }
   ],
   "source": [
    "sales_table['Purchase month'] = pd.to_datetime(sales_table['Purchase Date']).dt.to_period('M')\n",
    "\n",
    "income_table_add_month = sales_table.groupby('Purchase month').agg({\n",
    "    'Add-on Total': 'sum',\n",
    "})\n",
    "\n",
    "\n",
    "income_table_add_month.head()\n"
   ]
  },
  {
   "cell_type": "code",
   "execution_count": 77,
   "id": "c001cd77",
   "metadata": {},
   "outputs": [
    {
     "data": {
      "image/png": "[encoded data removed]",
      "text/plain": [
       "<Figure size 640x480 with 1 Axes>"
      ]
     },
     "metadata": {},
     "output_type": "display_data"
    }
   ],
   "source": [
    "income_table_add_month.plot(kind='bar')\n",
    "plt.ticklabel_format(style='plain', axis='y')\n",
    "plt.show()"
   ]
  },
  {
   "cell_type": "code",
   "execution_count": 78,
   "id": "796c16cd",
   "metadata": {},
   "outputs": [
    {
     "data": {
      "text/html": [
       "<div>\n",
       "<style scoped>\n",
       "    .dataframe tbody tr th:only-of-type {\n",
       "        vertical-align: middle;\n",
       "    }\n",
       "\n",
       "    .dataframe tbody tr th {\n",
       "        vertical-align: top;\n",
       "    }\n",
       "\n",
       "    .dataframe thead th {\n",
       "        text-align: right;\n",
       "    }\n",
       "</style>\n",
       "<table border=\"1\" class=\"dataframe\">\n",
       "  <thead>\n",
       "    <tr style=\"text-align: right;\">\n",
       "      <th></th>\n",
       "      <th>Add-on Total</th>\n",
       "    </tr>\n",
       "    <tr>\n",
       "      <th>Purchase qrt</th>\n",
       "      <th></th>\n",
       "    </tr>\n",
       "  </thead>\n",
       "  <tbody>\n",
       "    <tr>\n",
       "      <th>2023Q3</th>\n",
       "      <td>5337.61</td>\n",
       "    </tr>\n",
       "    <tr>\n",
       "      <th>2023Q4</th>\n",
       "      <td>73356.77</td>\n",
       "    </tr>\n",
       "    <tr>\n",
       "      <th>2024Q1</th>\n",
       "      <td>258222.60</td>\n",
       "    </tr>\n",
       "    <tr>\n",
       "      <th>2024Q2</th>\n",
       "      <td>256316.84</td>\n",
       "    </tr>\n",
       "    <tr>\n",
       "      <th>2024Q3</th>\n",
       "      <td>242361.42</td>\n",
       "    </tr>\n",
       "  </tbody>\n",
       "</table>\n",
       "</div>"
      ],
      "text/plain": [
       "              Add-on Total\n",
       "Purchase qrt              \n",
       "2023Q3             5337.61\n",
       "2023Q4            73356.77\n",
       "2024Q1           258222.60\n",
       "2024Q2           256316.84\n",
       "2024Q3           242361.42"
      ]
     },
     "execution_count": 78,
     "metadata": {},
     "output_type": "execute_result"
    }
   ],
   "source": [
    "sales_table['Purchase qrt'] = pd.to_datetime(sales_table['Purchase Date']).dt.to_period('Q')\n",
    "\n",
    "income_table_add_q = sales_table.groupby('Purchase qrt').agg({\n",
    "    'Add-on Total': 'sum',\n",
    "})\n",
    "\n",
    "income_table_add_q.head()\n",
    "\n",
    "\n"
   ]
  },
  {
   "cell_type": "code",
   "execution_count": 79,
   "id": "74fad5e6",
   "metadata": {},
   "outputs": [
    {
     "data": {
      "image/png": "[encoded data removed]",
      "text/plain": [
       "<Figure size 640x480 with 1 Axes>"
      ]
     },
     "metadata": {},
     "output_type": "display_data"
    }
   ],
   "source": [
    "income_table_add_q.plot(kind='bar')\n",
    "plt.ticklabel_format(style='plain', axis='y')\n",
    "plt.show()"
   ]
  }
 ],
 "metadata": {
  "kernelspec": {
   "display_name": "Python 3",
   "language": "python",
   "name": "python3"
  },
  "language_info": {
   "codemirror_mode": {
    "name": "ipython",
    "version": 3
   },
   "file_extension": ".py",
   "mimetype": "text/x-python",
   "name": "python",
   "nbconvert_exporter": "python",
   "pygments_lexer": "ipython3",
   "version": "3.11.4"
  }
 },
 "nbformat": 4,
 "nbformat_minor": 5
}
