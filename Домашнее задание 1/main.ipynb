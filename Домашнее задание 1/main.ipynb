{
 "cells": [
  {
   "cell_type": "code",
   "execution_count": 246,
   "id": "884a7d1f",
   "metadata": {},
   "outputs": [],
   "source": [
    "import json\n",
    "import csv"
   ]
  },
  {
   "cell_type": "code",
   "execution_count": 247,
   "id": "06221f8a",
   "metadata": {},
   "outputs": [],
   "source": [
    "purchases = {}"
   ]
  },
  {
   "cell_type": "code",
   "execution_count": 248,
   "id": "f677f7d2",
   "metadata": {},
   "outputs": [],
   "source": [
    "\n",
    "with open('purchase_log.txt', encoding='utf-8') as file:\n",
    "    for line in file:\n",
    "        if '\"user_id\": \"user_id\"' not in line:\n",
    "            data = json.loads(line.strip())\n",
    "            purchases[data['user_id']] = data['category']\n"
   ]
  },
  {
   "cell_type": "code",
   "execution_count": 249,
   "id": "aad2b0aa",
   "metadata": {},
   "outputs": [
    {
     "name": "stdout",
     "output_type": "stream",
     "text": [
      "1840e0b9d4 'Продукты'\n",
      "4e4f90fcfb 'Электроника'\n"
     ]
    }
   ],
   "source": [
    "# читаем первые 2 строки словаря purchases\n",
    "z = 0\n",
    "for i in purchases:\n",
    "    if z < 2:\n",
    "        print(f\"{i} '{purchases[i]}'\")\n",
    "    z +=1"
   ]
  },
  {
   "cell_type": "code",
   "execution_count": 250,
   "id": "fdfdd7f1",
   "metadata": {},
   "outputs": [],
   "source": [
    "# делаем доп. задание \n",
    "new_list = []"
   ]
  },
  {
   "cell_type": "code",
   "execution_count": 251,
   "id": "c185bce2",
   "metadata": {},
   "outputs": [],
   "source": [
    "with open('visit_log .csv', encoding='utf-8') as file:\n",
    "    for line in file:\n",
    "        line = line.strip().split(sep=',')\n",
    "        if line[0] in purchases.keys():\n",
    "            new_list.append(line[0]+','+line[1]+','+purchases[line[0]])"
   ]
  },
  {
   "cell_type": "code",
   "execution_count": 252,
   "id": "443ba43c",
   "metadata": {},
   "outputs": [],
   "source": [
    "with open('funnel.csv', mode='w', encoding='UTF-8', newline='') as file:\n",
    "    writer = csv.writer(file)\n",
    "    writer.writerow(['user_id','source','category'])\n",
    "    for i in new_list:\n",
    "        writer.writerow(i.split(','))"
   ]
  },
  {
   "cell_type": "code",
   "execution_count": 253,
   "id": "ac941a04",
   "metadata": {},
   "outputs": [
    {
     "name": "stdout",
     "output_type": "stream",
     "text": [
      "user_id,source,category\n",
      "1840e0b9d4,other,Продукты\n",
      "4e4f90fcfb,context,Электроника\n"
     ]
    }
   ],
   "source": [
    "# выводим первые 3 строки funnel.csv\n",
    "with open('funnel.csv', 'r', encoding='UTF-8') as file:\n",
    "    for i, row in enumerate(file):\n",
    "        if i < 3:\n",
    "            print(row.strip())\n",
    "        else: \n",
    "            break"
   ]
  }
 ],
 "metadata": {
  "kernelspec": {
   "display_name": "Python 3",
   "language": "python",
   "name": "python3"
  },
  "language_info": {
   "codemirror_mode": {
    "name": "ipython",
    "version": 3
   },
   "file_extension": ".py",
   "mimetype": "text/x-python",
   "name": "python",
   "nbconvert_exporter": "python",
   "pygments_lexer": "ipython3",
   "version": "3.11.4"
  }
 },
 "nbformat": 4,
 "nbformat_minor": 5
}
