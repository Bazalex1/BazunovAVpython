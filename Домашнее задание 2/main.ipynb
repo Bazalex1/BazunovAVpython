{
 "cells": [
  {
   "cell_type": "markdown",
   "id": "75175cc4",
   "metadata": {},
   "source": [
    "\n",
    "Задание 1\n",
    "The Moscow Times - Wednesday, October 2, 2002\n",
    "The Guardian - Friday, 11.10.13\n",
    "Daily News - Thursday, 18 August 1977\n"
   ]
  },
  {
   "cell_type": "code",
   "execution_count": 57,
   "id": "f03e3446",
   "metadata": {},
   "outputs": [],
   "source": [
    "import datetime as dt"
   ]
  },
  {
   "cell_type": "code",
   "execution_count": 58,
   "id": "ac91d4db",
   "metadata": {},
   "outputs": [
    {
     "name": "stdout",
     "output_type": "stream",
     "text": [
      "2002-10-02\n",
      "2013-10-11\n",
      "1977-08-18\n"
     ]
    }
   ],
   "source": [
    "the_moscow_times = 'Wednesday, October 2, 2002'\n",
    "the_guardian = 'Friday, 11.10.13'\n",
    "daily_news = 'Thursday, 18 August 1977'\n",
    "\n",
    "datetime_moscow = dt.datetime.strptime(the_moscow_times, '%A, %B %d, %Y')\n",
    "print(datetime_moscow.date())\n",
    "\n",
    "datetime_guardian = dt.datetime.strptime(the_guardian, '%A, %d.%m.%y')\n",
    "print(datetime_guardian.date())\n",
    "\n",
    "datetime_daily = dt.datetime.strptime(daily_news, '%A, %d %B %Y')\n",
    "print(datetime_daily.date())"
   ]
  },
  {
   "cell_type": "markdown",
   "id": "99ece483",
   "metadata": {},
   "source": [
    "Задание 2 (не обязательное)\n",
    "\n",
    "Напишите функцию date_range, которая возвращает список дат за период от start_date до end_date. Даты должны вводиться в формате YYYY-MM-DD. В случае неверного формата или при start_date > end_date должен возвращаться пустой список.\n",
    "\n",
    "Примеры работы программы:\n",
    "\n",
    "date_range(‘2022-01-01’, ‘2022-01-03’)\n",
    "\n",
    "[‘2022-01-01’, ‘2022-01-02’, ‘2022-01-03’]"
   ]
  },
  {
   "cell_type": "code",
   "execution_count": 59,
   "id": "48cc2a7e",
   "metadata": {},
   "outputs": [],
   "source": [
    "def date_range(start_date:str, end_date:str) -> list:\n",
    "    try:\n",
    "        start_dt = dt.datetime.strptime(start_date, '%Y-%m-%d')\n",
    "        end_dt = dt.datetime.strptime(end_date, '%Y-%m-%d')\n",
    "        x_dr = start_dt\n",
    "        result = []\n",
    "        if start_date > end_date:\n",
    "            raise ValueError\n",
    "        while x_dr <= end_dt:\n",
    "            result.append(x_dr.strftime('%Y-%m-%d'))\n",
    "            x_dr += dt.timedelta(days=1)\n",
    "        return result\n",
    "\n",
    "    except ValueError:\n",
    "        return []\n",
    "\n"
   ]
  },
  {
   "cell_type": "code",
   "execution_count": 60,
   "id": "33d909ea",
   "metadata": {},
   "outputs": [
    {
     "data": {
      "text/plain": [
       "['2022-01-01', '2022-01-02', '2022-01-03']"
      ]
     },
     "execution_count": 60,
     "metadata": {},
     "output_type": "execute_result"
    }
   ],
   "source": [
    "date_range('2022-01-01', '2022-01-03')"
   ]
  },
  {
   "cell_type": "code",
   "execution_count": 61,
   "id": "02e9d69d",
   "metadata": {},
   "outputs": [
    {
     "data": {
      "text/plain": [
       "[]"
      ]
     },
     "execution_count": 61,
     "metadata": {},
     "output_type": "execute_result"
    }
   ],
   "source": [
    "date_range('2022-01-03', '2022-01-01')"
   ]
  },
  {
   "cell_type": "code",
   "execution_count": 62,
   "id": "8ce45a8c",
   "metadata": {},
   "outputs": [
    {
     "data": {
      "text/plain": [
       "[]"
      ]
     },
     "execution_count": 62,
     "metadata": {},
     "output_type": "execute_result"
    }
   ],
   "source": [
    "date_range('2022-02-30', '2022-02-31')"
   ]
  }
 ],
 "metadata": {
  "kernelspec": {
   "display_name": "Python 3",
   "language": "python",
   "name": "python3"
  },
  "language_info": {
   "codemirror_mode": {
    "name": "ipython",
    "version": 3
   },
   "file_extension": ".py",
   "mimetype": "text/x-python",
   "name": "python",
   "nbconvert_exporter": "python",
   "pygments_lexer": "ipython3",
   "version": "3.11.4"
  }
 },
 "nbformat": 4,
 "nbformat_minor": 5
}
