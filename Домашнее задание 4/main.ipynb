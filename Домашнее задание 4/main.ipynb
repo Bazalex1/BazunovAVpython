{
 "cells": [
  {
   "cell_type": "code",
   "execution_count": null,
   "id": "73d5d200",
   "metadata": {},
   "outputs": [],
   "source": [
    "import re"
   ]
  },
  {
   "cell_type": "markdown",
   "id": "fb32a01d",
   "metadata": {},
   "source": [
    "Задание 1\n",
    "\n",
    "Напишите функцию, которая принимает на вход строку и проверяет, является ли она валидным транспортным номером (1 буква, 3 цифры, 2 буквы, 2–3 цифры). Обратите внимание, что не все буквы кириллического алфавита используются в транспортных номерах.\n",
    "\n",
    "Если номер валиден, то функция должна возвращать отдельно номер и регион.\n",
    "\n",
    "Примеры работы программы:\n",
    "\n",
    "car_id = 'А222BС96'\n",
    "\n",
    "Результат: Номер А222BС валиден. Регион: 96.\n",
    "\n",
    "car_id = 'АБ22ВВ193'\n",
    "\n",
    "Результат: Номер не валиден."
   ]
  },
  {
   "cell_type": "code",
   "execution_count": 65,
   "id": "dcee8406",
   "metadata": {},
   "outputs": [
    {
     "name": "stdout",
     "output_type": "stream",
     "text": [
      "Номер А222BС валиден. Регион: 96\n",
      "Номер АБ22ВВ193 не валиден\n"
     ]
    }
   ],
   "source": [
    "def car_valid(car_id:str)-> str:\n",
    "    car_letters = 'АВЕКМНОРСТУХABEKMHOPCTYX'\n",
    "    regular = re.compile(rf\"^([{car_letters}])(\\d{{3}})([{car_letters}]{{2}})(\\d{{2,3}})$\")\n",
    "    match = re.match(regular, car_id)\n",
    "    if match:\n",
    "        return f\"Номер {''.join(match.groups()[0:3])} валиден. Регион: {match.group(4)}\"\n",
    "    return f'Номер {car_id} не валиден'\n",
    "print(car_valid('А222BС96'))\n",
    "print(car_valid('АБ22ВВ193'))"
   ]
  },
  {
   "cell_type": "markdown",
   "id": "228e25e1",
   "metadata": {},
   "source": [
    "Задание 2.\n",
    "\n",
    "Написанная функция удаляет все последовательные повторы слов из заданной строки при помощи регулярных выражений.\n",
    "\n",
    "Пример работы программы:\n",
    "\n",
    "some_string = 'Напишите функцию функцию, которая будет будет будет будет удалять все все все все последовательные повторы слов из из из из заданной строки строки при помощи регулярных выражений'\n",
    "\n",
    "Результат: Напишите функцию, которая будет удалять все последовательные повторы слов из заданной строки при помощи регулярных выражений"
   ]
  },
  {
   "cell_type": "code",
   "execution_count": 75,
   "id": "7c02cc66",
   "metadata": {},
   "outputs": [
    {
     "name": "stdout",
     "output_type": "stream",
     "text": [
      "Напишите функцию, которая будет удалять все последовательные повторы слов из заданной строки при помощи регулярных выражений\n"
     ]
    }
   ],
   "source": [
    "from re import sub\n",
    "\n",
    "some_string = 'Напишите функцию функцию, которая будет будет будет будет удалять все все все все последовательные повторы слов из из из из заданной строки строки при помощи регулярных выражений'\n",
    "\n",
    "def delete_repeats(string):\n",
    "    res = sub(r'\\b(\\w+)(\\s+\\1)+\\b', r'\\1', some_string)\n",
    "    return res\n",
    "print(delete_repeats(some_string))"
   ]
  }
 ],
 "metadata": {
  "kernelspec": {
   "display_name": "Python 3",
   "language": "python",
   "name": "python3"
  },
  "language_info": {
   "codemirror_mode": {
    "name": "ipython",
    "version": 3
   },
   "file_extension": ".py",
   "mimetype": "text/x-python",
   "name": "python",
   "nbconvert_exporter": "python",
   "pygments_lexer": "ipython3",
   "version": "3.11.4"
  }
 },
 "nbformat": 4,
 "nbformat_minor": 5
}
